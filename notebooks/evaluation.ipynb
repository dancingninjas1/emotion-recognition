{
 "cells": [
  {
   "cell_type": "markdown",
   "metadata": {},
   "source": [
    "## Evaluation of Model: Case Study Samples"
   ]
  },
  {
   "cell_type": "code",
   "execution_count": 10,
   "metadata": {},
   "outputs": [],
   "source": [
    "import sys\n",
    "sys.path.append('C:/Users/apurv/Desktop/project')"
   ]
  },
  {
   "cell_type": "markdown",
   "metadata": {},
   "source": [
    "### This code implements Ensemble Learning to give predictions for Samples test cases"
   ]
  },
  {
   "cell_type": "code",
   "execution_count": 14,
   "metadata": {},
   "outputs": [
    {
     "name": "stdout",
     "output_type": "stream",
     "text": [
      "Predicted Classes:\n",
      "Model 1 Predicted Class: happy\n",
      "Model 2 Predicted Class: happy\n",
      "Model 3 Predicted Class: sad\n",
      "Ensemble Predicted Class: happy\n",
      "Annotated Emotion:  sad\n",
      "Prediction Scores:\n",
      "aggressive: 0.1734\n",
      "relaxed: 0.1937\n",
      "happy: 0.3548\n",
      "sad: 0.2781\n"
     ]
    }
   ],
   "source": [
    "import numpy as np\n",
    "import torch\n",
    "import random\n",
    "from training.model import MTSA\n",
    "from preprocessing.audiofeature import AudioEmotionDataset\n",
    "\n",
    "\n",
    "num_classes = 4  # Change this to the actual number of classes you have\n",
    "model1 = MTSA(architecture='pons_won', num_class=num_classes, is_cuda=True)\n",
    "model2 = MTSA(architecture='pons_won', num_class=num_classes, is_cuda=True)\n",
    "model3 = MTSA(architecture='pons_won', num_class=num_classes, is_cuda=True)\n",
    "model1.load_state_dict(torch.load('C:/Users/apurv/Desktop/project/results/custom_model-aco.pth'))\n",
    "model2.load_state_dict(torch.load('C:/Users/apurv/Desktop/project/results/custom_model-aco.pth'))\n",
    "model3.load_state_dict(torch.load('C:/Users/apurv/Desktop/project/results/custom_model-ele.pth'))\n",
    "model1.eval()\n",
    "model2.eval()\n",
    "model3.eval()\n",
    "\n",
    "data_folder = 'C:/Users/apurv/Desktop/project/Data/test/'\n",
    "csv_file = 'C:/Users/apurv/Desktop/project/Data/test/test.csv'\n",
    "audio_dataset = AudioEmotionDataset(data_folder, csv_file)\n",
    "\n",
    "\n",
    "\n",
    "\n",
    "random_idx = 1\n",
    "file_name, mel_spectrogram, emotion_label = audio_dataset[random_idx]\n",
    "\n",
    "\n",
    "# Convert the mel spectrogram to a tensor and add a batch dimension\n",
    "input_tensor = mel_spectrogram.unsqueeze(0)\n",
    "\n",
    "# Make predictions on the input tensor\n",
    "with torch.no_grad():\n",
    "    output1 = model1(input_tensor)\n",
    "    predicted_class1 = torch.argmax(output1, dim=1)\n",
    "\n",
    "# Make predictions on the input tensor\n",
    "with torch.no_grad():\n",
    "    output2 = model2(input_tensor)\n",
    "    predicted_class2 = torch.argmax(output2, dim=1)\n",
    "\n",
    "# Make predictions on the input tensor\n",
    "with torch.no_grad():\n",
    "    output3 = model3(input_tensor)\n",
    "    predicted_class3 = torch.argmax(output3, dim=1)\n",
    "\n",
    "\n",
    "\n",
    "EMOTION= ['aggressive', 'relaxed', 'happy', 'sad']  # Replace with your label classes\n",
    "# Calculate the ensemble prediction by averaging the outputs of the models\n",
    "ensemble_output = (output1 + output2 + output3) / 3\n",
    "ensemble_predicted_class = torch.argmax(ensemble_output, dim=1)\n",
    "\n",
    "# Print individual predicted classes\n",
    "print('Predicted Classes:')\n",
    "print(f'Model 1 Predicted Class: {EMOTION[predicted_class1.item()]}')\n",
    "print(f'Model 2 Predicted Class: {EMOTION[predicted_class2.item()]}')\n",
    "print(f'Model 3 Predicted Class: {EMOTION[predicted_class3.item()]}')\n",
    "\n",
    "# Print the final ensemble predicted class\n",
    "\n",
    "print(f'Ensemble Predicted Class: {EMOTION[ensemble_predicted_class.item()]}')\n",
    "print('Annotated Emotion: ', EMOTION[emotion_label])\n",
    "print('Prediction Scores:')\n",
    "for label, score in zip(EMOTION, torch.softmax(ensemble_output, dim=1)[0]):\n",
    "    print(f'{label}: {score:.4f}')\n"
   ]
  }
 ],
 "metadata": {
  "kernelspec": {
   "display_name": "base",
   "language": "python",
   "name": "python3"
  },
  "language_info": {
   "codemirror_mode": {
    "name": "ipython",
    "version": 3
   },
   "file_extension": ".py",
   "mimetype": "text/x-python",
   "name": "python",
   "nbconvert_exporter": "python",
   "pygments_lexer": "ipython3",
   "version": "3.9.13"
  },
  "orig_nbformat": 4
 },
 "nbformat": 4,
 "nbformat_minor": 2
}
